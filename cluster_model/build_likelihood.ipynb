{
 "cells": [
  {
   "cell_type": "markdown",
   "id": "95fddfdc-d880-45f5-b3bc-dde18a029efa",
   "metadata": {},
   "source": [
    "# Building Firecrown Cluster Counts Likelihood\n",
    "\n",
    "In this notebook, we are going to provide a example of how to build the cluster counts likelihood using firecrown to be used in two different manners:\n",
    "\n",
    "- A likelihood to be used with CosmoSIS\n",
    "\n",
    "- A likelihood to be used outside CosmoSIS"
   ]
  },
  {
   "cell_type": "code",
   "execution_count": 1,
   "id": "306819ef-7385-46ff-80f9-8ec2cb28ad9c",
   "metadata": {},
   "outputs": [],
   "source": [
    "\"\"\"Likelihood factory function for cluster number counts.\"\"\"\n",
    "\n",
    "import os\n",
    "from typing import Any, Dict\n",
    "\n",
    "import pyccl as ccl\n",
    "\n",
    "from firecrown.likelihood.gauss_family.statistic.cluster_number_counts import (\n",
    "    ClusterNumberCounts,\n",
    ")\n",
    "from firecrown.likelihood.gauss_family.gaussian import ConstGaussian\n",
    "from firecrown.modeling_tools import ModelingTools\n",
    "from firecrown.models.cluster_abundance import ClusterAbundance\n",
    "from firecrown.models.cluster_mass_rich_proxy import ClusterMassRich\n",
    "from firecrown.models.cluster_redshift_spec import ClusterRedshiftSpec\n",
    "from firecrown.sacc_support import sacc\n",
    "\n",
    "\n",
    "from firecrown.likelihood.likelihood import NamedParameters\n"
   ]
  },
  {
   "cell_type": "markdown",
   "id": "5c6a17bc-06f8-4033-8444-02b3ebcbf016",
   "metadata": {},
   "source": [
    "## Likelihood function"
   ]
  },
  {
   "cell_type": "markdown",
   "id": "4aebc3e8-f6b4-4c5b-89b8-b9544cf4a67d",
   "metadata": {},
   "source": [
    "When used with CosmoSIS, there are some parameters that do not need to be set in the likelihood function, since the .ini files required for CosmoSIS will set these parameters. We need to create a function named `build_likelihood`, which will replace its correspondent abstract function from the Firecrown likelihood class. This function must have a `build_parameters` as input, which is a `NamedParameters` object from the likelihood file inside firecrown. This object must be instantiated with a dictionary containing the parameters for the statiscs objects. "
   ]
  },
  {
   "cell_type": "code",
   "execution_count": 2,
   "id": "71313a08-a9f7-42c6-877f-6c13316ab60a",
   "metadata": {},
   "outputs": [],
   "source": [
    "def build_likelihood(build_parameters):\n",
    "    \"\"\"\n",
    "    Here we instantiate the number density (or mass function) object.\n",
    "    \"\"\"\n",
    "# First block: We will instantiate all the objects that will be passed to ClusterNumberCounts the statistics \n",
    "    pivot_mass = 14.625862906\n",
    "    pivot_redshift = 0.6\n",
    "\n",
    "    cluster_mass_r = ClusterMassRich(pivot_mass, pivot_redshift)\n",
    "    cluster_z = ClusterRedshiftSpec()\n",
    "\n",
    "    hmd_200 = ccl.halos.MassDef200m()\n",
    "    hmf_args: Dict[str, Any] = {}\n",
    "    hmf_name = \"Tinker08\"\n",
    "    cluster_abundance = ClusterAbundance(hmd_200, hmf_name, hmf_args)\n",
    "    \n",
    "################ IMPORTANT ################ set_parameters block\n",
    "#When using the likelihood in CosmoSIS, this block is not needed. As said, the .ini files will set these parameters for the sampler.\n",
    "#If we want to use this function in another sampler or just run the likelihood, we need to set the parameters needed for the cluster objects.\n",
    "#We are setting the parameters for random values to be able to run the likelihood in the end. \n",
    "\n",
    "    cluster_mass_r.__setattr__(\"mu_p0\", 3.0)\n",
    "    cluster_mass_r.__setattr__(\"mu_p1\", .86)\n",
    "    cluster_mass_r.__setattr__(\"mu_p2\", .0)\n",
    "    cluster_mass_r.__setattr__(\"sigma_p0\", 3.0)\n",
    "    cluster_mass_r.__setattr__(\"sigma_p1\", .7)\n",
    "    cluster_mass_r.__setattr__(\"sigma_p2\", 0.0)\n",
    "    \n",
    " ########### END OF PARAMETERS SET BLOCK ##############\n",
    "\n",
    "\n",
    "#Second block: Here we will generate the statiscs with the objects above and the parameters passed in the beggining of the function.\n",
    "    stats = ClusterNumberCounts(\n",
    "        \"numcosmo_simulated_redshift_richness\",\n",
    "        cluster_abundance,\n",
    "        cluster_mass_r,\n",
    "        cluster_z,\n",
    "        use_cluster_counts=build_parameters.get_bool(\"use_cluster_counts\", True),\n",
    "        use_mean_log_mass=build_parameters.get_bool(\"use_mean_log_mass\", False),\n",
    "    )\n",
    "    stats_list = [stats]\n",
    "\n",
    "    # Here we instantiate the actual likelihood. The statistics argument carry\n",
    "    # the order of the data/theory vector.\n",
    "\n",
    "#Third Block: we will create a likelihood (in this case a constant gaussian) with the statiscs object\n",
    "    lk = ConstGaussian(stats_list)\n",
    "\n",
    "    # We load the correct SACC file.\n",
    "    saccfile = os.path.expanduser(\n",
    "        os.path.expandvars(\n",
    "            \"${FIRECROWN_DIR}/examples/cluster_number_counts/\"\n",
    "            \"cluster_redshift_richness_sacc_data.fits\"\n",
    "        )\n",
    "    )\n",
    "    sacc_data = sacc.Sacc.load_fits(saccfile)\n",
    "\n",
    "    # The read likelihood method is called passing the loaded SACC file, the\n",
    "    # cluster number count functions will receive the appropriated sections\n",
    "    # of the SACC file.\n",
    "    lk.read(sacc_data)\n",
    "\n",
    "    # This script will be loaded by the appropriated connector. The framework\n",
    "    # then looks for the `likelihood` variable to find the instance that will\n",
    "    # be used to compute the likelihood.\n",
    "    modeling = ModelingTools()\n",
    "\n",
    "    return lk, modeling\n"
   ]
  },
  {
   "cell_type": "markdown",
   "id": "3cbb53a2-b216-4404-b4ef-eb9d99bcf4e8",
   "metadata": {},
   "source": [
    "### Running the likelihood\n",
    "After defining the `build_likelihood` function, it will be called by CosmoSIS for each sampler interation. Here we will call the function ouselves to test our implementation.\n",
    "Therefore we had to set the parameters values in the likelihood function. If used with CosmoSIS, the `set_parameters` block is not needed. "
   ]
  },
  {
   "cell_type": "code",
   "execution_count": 3,
   "id": "1e209100-4134-45c3-92e3-85f49982803a",
   "metadata": {},
   "outputs": [
    {
     "name": "stdout",
     "output_type": "stream",
     "text": [
      "The value of -2logL is -10802.132488515948\n"
     ]
    }
   ],
   "source": [
    "build_parameters = NamedParameters({\"use_cluster_counts\": True,\n",
    "\"use_mean_log_mass\": False\n",
    "})\n",
    "\n",
    "firecrown_mod = ModelingTools()\n",
    "\n",
    "cosmo = ccl.Cosmology(\n",
    "    Omega_c=0.22, Omega_b=0.0448, h=0.71, sigma8=0.8, n_s=0.963, Neff=3.04\n",
    ")\n",
    "firecrown_mod.prepare(cosmo)\n",
    "lk = build_likelihood(build_parameters)\n",
    "loglike = lk[0].compute_loglike(firecrown_mod)\n",
    "\n",
    "print(f\"The value of -2logL is {loglike}\")"
   ]
  },
  {
   "cell_type": "markdown",
   "id": "b96d1a1c-0fcf-48d5-8095-fc217b934f3e",
   "metadata": {},
   "source": [
    "We can thus use this likelihood function with other samplers. To simplify it, we can change the `build_parameters` to a simple dictionary and make the required changes in the `build_likelihood` function.\n",
    "\n",
    "If used with CosmoSIS, we don't need to set the parameters in the likelihood build function. At each step, the sampler will set the parameters and run the function in a similar manner to the cell above, giving the likelihood value as an output for the next iteration."
   ]
  },
  {
   "cell_type": "code",
   "execution_count": null,
   "id": "cdb5d2e0-a520-495d-9fa0-956ebdf88b35",
   "metadata": {},
   "outputs": [],
   "source": []
  },
  {
   "cell_type": "code",
   "execution_count": null,
   "id": "df94259a-64ee-40b6-bc46-2b214d0f5d2f",
   "metadata": {},
   "outputs": [],
   "source": []
  }
 ],
 "metadata": {
  "kernelspec": {
   "display_name": "Python (firecrown2.0)",
   "language": "python",
   "name": "firecrown"
  },
  "language_info": {
   "codemirror_mode": {
    "name": "ipython",
    "version": 3
   },
   "file_extension": ".py",
   "mimetype": "text/x-python",
   "name": "python",
   "nbconvert_exporter": "python",
   "pygments_lexer": "ipython3",
   "version": "3.11.0"
  }
 },
 "nbformat": 4,
 "nbformat_minor": 5
}
