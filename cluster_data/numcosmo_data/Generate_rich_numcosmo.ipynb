{
 "cells": [
  {
   "cell_type": "markdown",
   "metadata": {},
   "source": [
    "# Cluster count-only SACC file creation\n",
    "\n",
    "This notebook examplifies the creation of a SACC file for cluster count, using pre-extracted halo catalog from the SkySim dataset. It\n",
    "- shows how to load the data\n",
    "- counts halos in the richness and redshift plane\n",
    "- computes the covariance using jackknife resampling (to be eventually done by TJPCov)\n",
    "- **save the count and covariance in the SACC format**"
   ]
  },
  {
   "cell_type": "code",
   "execution_count": 1,
   "metadata": {},
   "outputs": [],
   "source": [
    "%load_ext autoreload\n",
    "%autoreload 2\n",
    "#!/usr/bin/env python\n",
    "\n",
    "try:\n",
    "    import gi\n",
    "\n",
    "    gi.require_version(\"NumCosmo\", \"1.0\")\n",
    "    gi.require_version(\"NumCosmoMath\", \"1.0\")\n",
    "except:\n",
    "    pass\n",
    "\n",
    "import math\n",
    "from gi.repository import GObject\n",
    "from gi.repository import NumCosmo as Nc\n",
    "from gi.repository import NumCosmoMath as Ncm\n",
    "import sys\n",
    "\n",
    "sys.path.insert(0, \"../../scripts\")\n",
    "import os\n",
    "import numpy as np\n",
    "from astropy.table import Table\n",
    "from numpy import random\n",
    "import scipy\n",
    "import matplotlib.pyplot as plt\n",
    "import clmm\n",
    "from clmm import GalaxyCluster, ClusterEnsemble, GCData\n",
    "from clmm import Cosmology\n",
    "from clmm.support import mock_data as mock\n",
    "import pandas as pd\n",
    "import numpy as np\n",
    "import pyccl as ccl\n",
    "import sacc\n",
    "\n",
    "clmm.__version__\n",
    "import pandas as pd\n",
    "from astropy.io import fits\n",
    "from astropy.table import Table\n",
    "import scipy.integrate\n",
    "import astropy.units as u\n",
    "\n",
    "\n",
    "Ncm.cfg_init()\n",
    "Ncm.cfg_set_log_handler(lambda msg: sys.stdout.write(msg) and sys.stdout.flush())\n",
    "\n",
    "%matplotlib inline\n",
    "catalog = \"skysim5000_v1.1.1\"\n",
    "sys.path.insert(0, \"/pbs/home/e/ebarroso/gcr-catalogs\")\n",
    "import GCRCatalogs\n",
    "\n",
    "GCRCatalogs.set_root_dir_by_site(\"in2p3\")\n",
    "skysim_cat = GCRCatalogs.load_catalog(catalog)\n",
    "cosmo_ss = skysim_cat.cosmology"
   ]
  },
  {
   "cell_type": "code",
   "execution_count": 2,
   "metadata": {},
   "outputs": [
    {
     "data": {
      "text/plain": [
       "'0.8.1'"
      ]
     },
     "execution_count": 2,
     "metadata": {},
     "output_type": "execute_result"
    }
   ],
   "source": [
    "sacc.__version__"
   ]
  },
  {
   "cell_type": "markdown",
   "metadata": {},
   "source": [
    "# Generating data with NumCosmo"
   ]
  },
  {
   "cell_type": "markdown",
   "metadata": {},
   "source": [
    "## Creating NumCosmo Mass function and Number Counts Object"
   ]
  },
  {
   "cell_type": "code",
   "execution_count": 3,
   "metadata": {},
   "outputs": [
    {
     "name": "stdout",
     "output_type": "stream",
     "text": [
      "71.0 km / (Mpc s) 0.2648\n"
     ]
    }
   ],
   "source": [
    "print(cosmo_ss.H0, cosmo_ss.Om0)"
   ]
  },
  {
   "cell_type": "code",
   "execution_count": 4,
   "metadata": {},
   "outputs": [
    {
     "name": "stdout",
     "output_type": "stream",
     "text": [
      "0.8 0.8490796381176396 0.0\n",
      "0.8 0.7999999999999999\n",
      "71.0 0.0448 0.21999999999999997 <bound method FLRW.Ode of FlatLambdaCDM(H0=71.0 km / (Mpc s), Om0=0.2648, Tcmb0=0.0 K, Neff=3.04, m_nu=None, Ob0=0.0448)> 0.963 3.04\n"
     ]
    }
   ],
   "source": [
    "cosmo = Nc.HICosmoDEXcdm()\n",
    "reion = Nc.HIReionCamb.new()\n",
    "prim = Nc.HIPrimPowerLaw.new()\n",
    "\n",
    "cosmo.add_submodel(reion)\n",
    "cosmo.add_submodel(prim)\n",
    "\n",
    "dist = Nc.Distance.new(2.0)\n",
    "\n",
    "tf = Nc.TransferFunc.new_from_name(\"NcTransferFuncEH\")\n",
    "\n",
    "psml = Nc.PowspecMLTransfer.new(tf)\n",
    "\n",
    "# psml = Nc.PowspecMLCBE.new ()\n",
    "psml.require_kmin(1.0e-6)\n",
    "psml.require_kmax(1.0e3)\n",
    "\n",
    "psf = Ncm.PowspecFilter.new(psml, Ncm.PowspecFilterType.TOPHAT)\n",
    "psf.set_best_lnr0()\n",
    "\n",
    "\n",
    "cosmo.props.H0 = cosmo_ss.H0.value\n",
    "cosmo.props.Omegab = cosmo_ss.Ob0\n",
    "cosmo.props.Omegac = cosmo_ss.Odm0\n",
    "cosmo.props.Omegax = cosmo_ss.Ode0\n",
    "\n",
    "cosmo.omega_x2omega_k()\n",
    "cosmo.param_set_by_name(\"Omegak\", 0.0)\n",
    "\n",
    "prim.props.n_SA = cosmo_ss.n_s\n",
    "print(cosmo_ss.sigma8, cosmo.sigma8(psf), cosmo.Omega_k0())\n",
    "\n",
    "old_amplitude = math.exp(prim.props.ln10e10ASA)\n",
    "prim.props.ln10e10ASA = math.log(\n",
    "    (cosmo_ss.sigma8 / cosmo.sigma8(psf)) ** 2 * old_amplitude\n",
    ")\n",
    "print(cosmo_ss.sigma8, cosmo.sigma8(psf))\n",
    "print(\n",
    "    cosmo_ss.H0.value,\n",
    "    cosmo_ss.Ob0,\n",
    "    cosmo_ss.Odm0,\n",
    "    cosmo_ss.Ode,\n",
    "    cosmo_ss.n_s,\n",
    "    cosmo_ss.Neff,\n",
    ")"
   ]
  },
  {
   "cell_type": "code",
   "execution_count": 5,
   "metadata": {},
   "outputs": [],
   "source": [
    "# CosmoSim_proxy model\n",
    "# M_0, z_0\n",
    "theta_pivot = [3e14 / 0.71, 0.6]\n",
    "\n",
    "\n",
    "area = 439.78986\n",
    "lnRl = 0.0\n",
    "lnRu = 5.0\n",
    "zl = 0.2\n",
    "zu = 0.65\n",
    "\n",
    "# Numcosmo_proxy model based on arxiv 1904.07524v2\n",
    "cluster_z = Nc.ClusterRedshift.new_from_name(\n",
    "    \"NcClusterRedshiftNodist{'z-min': <%20.15e>, 'z-max':<%20.15e>}\" % (zl, zu)\n",
    ")\n",
    "\n",
    "cluster_m = Nc.ClusterMass.new_from_name(\n",
    "    \"NcClusterMassAscaso{'M0':<%20.15e>,'z0':<%20.15e>,'lnRichness-min':<%20.15e>, 'lnRichness-max':<%20.15e>}\"\n",
    "    % (3e14 / (0.71), 0.6, lnRl, lnRu)\n",
    ")\n",
    "cluster_m.param_set_by_name(\"mup0\", 3.19)\n",
    "cluster_m.param_set_by_name(\"mup1\", 2 / np.log(10))\n",
    "cluster_m.param_set_by_name(\"mup2\", -0.7 / np.log(10))\n",
    "cluster_m.param_set_by_name(\"sigmap0\", 0.33)\n",
    "cluster_m.param_set_by_name(\"sigmap1\", -0.08 / np.log(10))\n",
    "cluster_m.param_set_by_name(\"sigmap2\", 0 / np.log(10))"
   ]
  },
  {
   "cell_type": "code",
   "execution_count": 6,
   "metadata": {},
   "outputs": [],
   "source": [
    "# Numcosmo Mass Function\n",
    "\n",
    "# First we need to define the multiplicity function here we will use the tinker\n",
    "mulf = Nc.MultiplicityFuncTinker.new()\n",
    "mulf.set_linear_interp(True)\n",
    "mulf.set_mdef(Nc.MultiplicityFuncMassDef.MEAN)\n",
    "mulf.set_Delta(200)\n",
    "# Second we need to construct a filtered power spectrum\n",
    "\n",
    "hmf = Nc.HaloMassFunction.new(dist, psf, mulf)\n",
    "hmf.set_area_sd(area)\n",
    "\n",
    "# Cluster Abundance Obj\n",
    "ca = Nc.ClusterAbundance.new(hmf, None)"
   ]
  },
  {
   "cell_type": "code",
   "execution_count": 7,
   "metadata": {},
   "outputs": [],
   "source": [
    "# Number Counts object\n",
    "ncount = Nc.DataClusterNCount.new(ca, \"NcClusterRedshiftNodist\", \"NcClusterMassAscaso\")\n",
    "\n",
    "ca.prepare(cosmo, cluster_z, cluster_m)\n",
    "mset = Ncm.MSet.new_array([cosmo, cluster_z, cluster_m])\n",
    "\n",
    "rng = Ncm.RNG.seeded_new(None, 42)\n",
    "\n",
    "ncount.init_from_sampling(mset, area * ((np.pi / 180) ** 2), rng)\n"
   ]
  },
  {
   "cell_type": "code",
   "execution_count": 8,
   "metadata": {},
   "outputs": [
    {
     "data": {
      "text/html": [
       "<div><i>Table length=72078</i>\n",
       "<table id=\"table140188275430288\" class=\"table-striped table-bordered table-condensed\">\n",
       "<thead><tr><th>Z_OBS</th><th>LNM_OBS</th><th>Z_TRUE</th><th>LNM_TRUE</th></tr></thead>\n",
       "<thead><tr><th>float64</th><th>float64</th><th>float64</th><th>float64</th></tr></thead>\n",
       "<tr><td>0.2608325447342572</td><td>2.5684083760968037</td><td>0.2608325447342572</td><td>32.54368600618273</td></tr>\n",
       "<tr><td>0.5299337311988379</td><td>0.46882215548028905</td><td>0.5299337311988379</td><td>30.538321337799154</td></tr>\n",
       "<tr><td>0.2281374509371929</td><td>1.3551404652700865</td><td>0.2281374509371929</td><td>30.246435489987633</td></tr>\n",
       "<tr><td>0.4515143199401622</td><td>0.06096176533487095</td><td>0.4515143199401622</td><td>30.062952073141858</td></tr>\n",
       "<tr><td>0.6424729887525561</td><td>0.13254829125809042</td><td>0.6424729887525561</td><td>30.297306871521325</td></tr>\n",
       "<tr><td>0.2886819071709008</td><td>0.6097498207336214</td><td>0.2886819071709008</td><td>31.219522066453077</td></tr>\n",
       "<tr><td>0.4443659722776738</td><td>0.5146747684110289</td><td>0.4443659722776738</td><td>30.537258022408164</td></tr>\n",
       "<tr><td>0.47783830215453965</td><td>0.1383181225180969</td><td>0.47783830215453965</td><td>29.97445599199998</td></tr>\n",
       "<tr><td>0.21692673263144327</td><td>2.545081910318195</td><td>0.21692673263144327</td><td>32.25706108612661</td></tr>\n",
       "<tr><td>0.44558955121197646</td><td>0.5700085407405189</td><td>0.44558955121197646</td><td>30.243354117767687</td></tr>\n",
       "<tr><td>...</td><td>...</td><td>...</td><td>...</td></tr>\n",
       "<tr><td>0.5435025346875341</td><td>0.27853176841104427</td><td>0.5435025346875341</td><td>30.258312550884764</td></tr>\n",
       "<tr><td>0.329211990320491</td><td>0.2716744179147974</td><td>0.329211990320491</td><td>31.16068755473424</td></tr>\n",
       "<tr><td>0.272058296664016</td><td>0.693607683728657</td><td>0.272058296664016</td><td>30.56397694271294</td></tr>\n",
       "<tr><td>0.31621128147714894</td><td>1.205467915382783</td><td>0.31621128147714894</td><td>30.626064843702245</td></tr>\n",
       "<tr><td>0.49987698629977156</td><td>0.28216037562909524</td><td>0.49987698629977156</td><td>30.81886053423664</td></tr>\n",
       "<tr><td>0.6274982236910587</td><td>0.4839587678621486</td><td>0.6274982236910587</td><td>30.207265432060638</td></tr>\n",
       "<tr><td>0.47486589278359687</td><td>1.6299760694773513</td><td>0.47486589278359687</td><td>31.458356079697868</td></tr>\n",
       "<tr><td>0.4740208676906655</td><td>1.4449720605114047</td><td>0.4740208676906655</td><td>31.308693383581417</td></tr>\n",
       "<tr><td>0.6167572737867091</td><td>0.9923671220905608</td><td>0.6167572737867091</td><td>30.25848547849567</td></tr>\n",
       "<tr><td>0.4373021340576349</td><td>0.8923176836211537</td><td>0.4373021340576349</td><td>30.669383840695886</td></tr>\n",
       "</table></div>"
      ],
      "text/plain": [
       "<Table length=72078>\n",
       "       Z_OBS              LNM_OBS              Z_TRUE            LNM_TRUE     \n",
       "      float64             float64             float64            float64      \n",
       "------------------- ------------------- ------------------- ------------------\n",
       " 0.2608325447342572  2.5684083760968037  0.2608325447342572  32.54368600618273\n",
       " 0.5299337311988379 0.46882215548028905  0.5299337311988379 30.538321337799154\n",
       " 0.2281374509371929  1.3551404652700865  0.2281374509371929 30.246435489987633\n",
       " 0.4515143199401622 0.06096176533487095  0.4515143199401622 30.062952073141858\n",
       " 0.6424729887525561 0.13254829125809042  0.6424729887525561 30.297306871521325\n",
       " 0.2886819071709008  0.6097498207336214  0.2886819071709008 31.219522066453077\n",
       " 0.4443659722776738  0.5146747684110289  0.4443659722776738 30.537258022408164\n",
       "0.47783830215453965  0.1383181225180969 0.47783830215453965  29.97445599199998\n",
       "0.21692673263144327   2.545081910318195 0.21692673263144327  32.25706108612661\n",
       "0.44558955121197646  0.5700085407405189 0.44558955121197646 30.243354117767687\n",
       "                ...                 ...                 ...                ...\n",
       " 0.5435025346875341 0.27853176841104427  0.5435025346875341 30.258312550884764\n",
       "  0.329211990320491  0.2716744179147974   0.329211990320491  31.16068755473424\n",
       "  0.272058296664016   0.693607683728657   0.272058296664016  30.56397694271294\n",
       "0.31621128147714894   1.205467915382783 0.31621128147714894 30.626064843702245\n",
       "0.49987698629977156 0.28216037562909524 0.49987698629977156  30.81886053423664\n",
       " 0.6274982236910587  0.4839587678621486  0.6274982236910587 30.207265432060638\n",
       "0.47486589278359687  1.6299760694773513 0.47486589278359687 31.458356079697868\n",
       " 0.4740208676906655  1.4449720605114047  0.4740208676906655 31.308693383581417\n",
       " 0.6167572737867091  0.9923671220905608  0.6167572737867091  30.25848547849567\n",
       " 0.4373021340576349  0.8923176836211537  0.4373021340576349 30.669383840695886"
      ]
     },
     "metadata": {},
     "output_type": "display_data"
    }
   ],
   "source": [
    "ncount.catalog_save(\"ncount_rich_3.fits\", True)\n",
    "ncount.catalog_load(\"ncount_rich_3.fits\")\n",
    "\n",
    "ncdata_fits = fits.open(\"ncount_rich_3.fits\")\n",
    "# ncdata_fits.info()\n",
    "\n",
    "ncdata_data = ncdata_fits[1].data\n",
    "\n",
    "ncdata_Table = Table(ncdata_data)\n",
    "ncdata_Table.columns\n",
    "# ncdata_Table.sort('LNM_TRUE')\n",
    "\n",
    "display(ncdata_Table)"
   ]
  },
  {
   "cell_type": "markdown",
   "metadata": {},
   "source": [
    "## Plot of Cluster Mass versus Richness"
   ]
  },
  {
   "cell_type": "code",
   "execution_count": 9,
   "metadata": {},
   "outputs": [
    {
     "name": "stdout",
     "output_type": "stream",
     "text": [
      "     LNM_TRUE     \n",
      "------------------\n",
      " 32.54368600618273\n",
      "30.538321337799154\n",
      "30.246435489987633\n",
      "30.062952073141858\n",
      "30.297306871521325\n",
      "31.219522066453077\n",
      "30.537258022408164\n",
      " 29.97445599199998\n",
      " 32.25706108612661\n",
      "30.243354117767687\n",
      "               ...\n",
      "30.450780528770135\n",
      "30.258312550884764\n",
      " 31.16068755473424\n",
      " 30.56397694271294\n",
      "30.626064843702245\n",
      " 30.81886053423664\n",
      "30.207265432060638\n",
      "31.458356079697868\n",
      "31.308693383581417\n",
      " 30.25848547849567\n",
      "30.669383840695886\n",
      "Length = 72078 rows\n"
     ]
    },
    {
     "data": {
      "text/plain": [
       "<matplotlib.collections.PathCollection at 0x7f800dc38350>"
      ]
     },
     "execution_count": 9,
     "metadata": {},
     "output_type": "execute_result"
    },
    {
     "data": {
      "image/png": "[encoded data removed]",
      "text/plain": [
       "<Figure size 640x480 with 1 Axes>"
      ]
     },
     "metadata": {},
     "output_type": "display_data"
    }
   ],
   "source": [
    "plt.xlabel(\"$\\ln(M_{true})$\")\n",
    "plt.ylabel(\"$\\ln(\\lambda)$\")\n",
    "plt.savefig(\"richscatter\", bbox_inches=\"tight\")\n",
    "np.exp(32)\n",
    "# ncdata_Table = ncdata_Table[ncdata_Table['LNM_OBS'] > np.log(5) ]\n",
    "# ncdata_Table = ncdata_Table[ncdata_Table['LNM_TRUE'] > 32 ]\n",
    "print(ncdata_Table[\"LNM_TRUE\"])\n",
    "plt.scatter(\n",
    "    np.array(ncdata_Table[\"LNM_TRUE\"]),\n",
    "    np.array(ncdata_Table[\"LNM_OBS\"]),\n",
    "    color=\"purple\",\n",
    ")"
   ]
  },
  {
   "cell_type": "code",
   "execution_count": 10,
   "metadata": {},
   "outputs": [
    {
     "data": {
      "text/plain": [
       "(array([7671., 7831., 7840., 7372., 6809., 6034., 5149., 4314., 3765.,\n",
       "        3081., 2563., 2064., 1610., 1303., 1101.,  826.,  704.,  505.,\n",
       "         385.,  337.,  242.,  178.,  114.,   94.,   57.,   43.,   37.,\n",
       "          23.,   14.,   12.]),\n",
       " array([13.00000605, 13.06608863, 13.13217121, 13.19825379, 13.26433636,\n",
       "        13.33041894, 13.39650152, 13.4625841 , 13.52866667, 13.59474925,\n",
       "        13.66083183, 13.7269144 , 13.79299698, 13.85907956, 13.92516214,\n",
       "        13.99124471, 14.05732729, 14.12340987, 14.18949245, 14.25557502,\n",
       "        14.3216576 , 14.38774018, 14.45382275, 14.51990533, 14.58598791,\n",
       "        14.65207049, 14.71815306, 14.78423564, 14.85031822, 14.9164008 ,\n",
       "        14.98248337]),\n",
       " <BarContainer object of 30 artists>)"
      ]
     },
     "execution_count": 10,
     "metadata": {},
     "output_type": "execute_result"
    },
    {
     "data": {
      "image/png": "[encoded data removed]",
      "text/plain": [
       "<Figure size 640x480 with 1 Axes>"
      ]
     },
     "metadata": {},
     "output_type": "display_data"
    }
   ],
   "source": [
    "plt.hist(np.log10(np.exp(ncdata_Table[\"LNM_TRUE\"])), bins=30)"
   ]
  },
  {
   "cell_type": "code",
   "execution_count": 11,
   "metadata": {},
   "outputs": [],
   "source": [
    "data_table = ncdata_Table\n",
    "cluster_z = data_table[\"Z_OBS\"]\n",
    "cluster_lnm = data_table[\"LNM_OBS\"]\n",
    "cluster_z = np.array(cluster_z)\n",
    "cluster_richness = np.log10(np.exp(np.array(cluster_lnm)))"
   ]
  },
  {
   "cell_type": "markdown",
   "metadata": {},
   "source": [
    "## Count halos in the $N_{\\rm richness} \\times N_z$ richness-redshift planecosmo_ss"
   ]
  },
  {
   "cell_type": "code",
   "execution_count": 12,
   "metadata": {},
   "outputs": [
    {
     "name": "stdout",
     "output_type": "stream",
     "text": [
      "[5.64434040e-06 3.89113926e-01 7.78222208e-01 1.16733049e+00\n",
      " 1.55643877e+00 1.94554705e+00]\n"
     ]
    },
    {
     "data": {
      "text/plain": [
       "2.302585092994046"
      ]
     },
     "execution_count": 12,
     "metadata": {},
     "output_type": "execute_result"
    },
    {
     "data": {
      "image/png": "[encoded data removed]",
      "text/plain": [
       "<Figure size 640x480 with 2 Axes>"
      ]
     },
     "metadata": {},
     "output_type": "display_data"
    }
   ],
   "source": [
    "N_richness = 5  # number of richness bins\n",
    "N_z = 4  # number of redshift bins\n",
    "\n",
    "data_lz, z_edges, richness_edges, im = plt.hist2d(\n",
    "    cluster_z, (cluster_richness), bins=[N_z, N_richness]\n",
    ")\n",
    "print(richness_edges)\n",
    "#print(z_edges)\n",
    "#print(data_lz)\n",
    "fig = plt.colorbar()\n",
    "plt.savefig(\"bins\")\n",
    "np.log(10)"
   ]
  },
  {
   "cell_type": "markdown",
   "metadata": {},
   "source": [
    "## Covariance\n",
    "\n",
    "Here we are using a jackknife resampling method to compute the count covariance from the data (adapted from C. Payerne's [code](https://github.com/LSSTDESC/CLCosmo_Sim/blob/issue/15/binned_cosmological_analysis/cluster_abundance/CL_COUNT_DATAOPS_cluster_abundance_covariance.py) in the CLCosmoSim repo). Eventually, this will be replaced by the theoretical covariance provided by `TJPCov`."
   ]
  },
  {
   "cell_type": "code",
   "execution_count": 13,
   "metadata": {},
   "outputs": [
    {
     "data": {
      "text/plain": [
       "<matplotlib.image.AxesImage at 0x7f800da4fd10>"
      ]
     },
     "execution_count": 13,
     "metadata": {},
     "output_type": "execute_result"
    },
    {
     "data": {
      "image/png": "[encoded data removed]",
      "text/plain": [
       "<Figure size 640x480 with 1 Axes>"
      ]
     },
     "metadata": {},
     "output_type": "display_data"
    }
   ],
   "source": [
    "covariance = np.zeros((N_richness * N_z, N_richness * N_z))\n",
    "np.fill_diagonal(covariance, (data_lz.flatten()))\n",
    "plt.imshow((covariance))"
   ]
  },
  {
   "cell_type": "markdown",
   "metadata": {},
   "source": [
    "**Correlation matrix - the \"large blocks\" correspond to the $N_z$ redshift bins. In each redshift bin are the $N_{\\rm richness}$ richness bins.**"
   ]
  },
  {
   "cell_type": "code",
   "execution_count": 14,
   "metadata": {},
   "outputs": [
    {
     "data": {
      "text/plain": [
       "<matplotlib.image.AxesImage at 0x7f800da1c9d0>"
      ]
     },
     "execution_count": 14,
     "metadata": {},
     "output_type": "execute_result"
    },
    {
     "data": {
      "image/png": "[encoded data removed]",
      "text/plain": [
       "<Figure size 640x480 with 1 Axes>"
      ]
     },
     "metadata": {},
     "output_type": "display_data"
    }
   ],
   "source": [
    "plt.imshow(np.corrcoef(covariance))\n",
    "# plt.imshow((covariance))"
   ]
  },
  {
   "cell_type": "markdown",
   "metadata": {},
   "source": [
    "## Store everything in a SACC file"
   ]
  },
  {
   "cell_type": "code",
   "execution_count": 15,
   "metadata": {},
   "outputs": [
    {
     "name": "stdout",
     "output_type": "stream",
     "text": [
      "(0.2000149359332703, 0.31250999365698834)\n",
      "(0.31250999365698834, 0.4250050513807063)\n",
      "(0.4250050513807063, 0.5375001091044244)\n",
      "(0.5375001091044244, 0.6499951668281424)\n",
      "(5.644340396171686e-06, 0.38911392625546615)\n",
      "5.644340396171686e-06 0.38911392625546615\n",
      "(0.38911392625546615, 0.7782222081705361)\n",
      "0.38911392625546615 0.7782222081705361\n",
      "(0.7782222081705361, 1.167330490085606)\n",
      "0.7782222081705361 1.167330490085606\n",
      "(1.167330490085606, 1.556438772000676)\n",
      "1.167330490085606 1.556438772000676\n",
      "(1.556438772000676, 1.945547053915746)\n",
      "1.556438772000676 1.945547053915746\n"
     ]
    }
   ],
   "source": [
    "from firecrown.sacc_support import sacc\n",
    "import itertools\n",
    "s_count = sacc.Sacc()\n",
    "bin_z_labels = []\n",
    "bin_richness_labels = []\n",
    "\n",
    "survey_name = \"NC_mock_redshift_mass\"\n",
    "s_count.add_tracer(\"cluster_survey\", survey_name, area)\n",
    "\n",
    "for i, z_bin in enumerate(zip(z_edges[:-1], z_edges[1:])):\n",
    "    lower, upper = z_bin\n",
    "    print(z_bin)\n",
    "    bin_z_label = f\"bin_z_{i}\"\n",
    "    s_count.add_tracer(\"bin_z\", bin_z_label, lower, upper)\n",
    "    bin_z_labels.append(bin_z_label)\n",
    "\n",
    "for i, richness_bin in enumerate(zip(richness_edges[:-1], richness_edges[1:])):\n",
    "    lower, upper = richness_bin\n",
    "    print(richness_bin)\n",
    "    bin_richness_label = f\"bin_rich_{i}\"\n",
    "    s_count.add_tracer(\n",
    "        \"bin_richness\", bin_richness_label, lower, upper\n",
    "    )\n",
    "    print(lower,upper)\n",
    "    bin_richness_labels.append(bin_richness_label)\n",
    "\n",
    "cluster_count = sacc.standard_types.cluster_counts\n",
    "cluster_mass = sacc.standard_types.cluster_mean_log_mass\n",
    "\n",
    "counts_and_edges = zip(\n",
    "    data_lz.flatten(), itertools.product(bin_z_labels, bin_richness_labels)\n",
    ")\n",
    "\n",
    "for counts, (bin_z_label, bin_richness_label) in counts_and_edges:\n",
    "    s_count.add_data_point(\n",
    "        cluster_count, (survey_name, bin_z_label, bin_richness_label), int(counts)\n",
    "    )\n",
    "\n",
    "# Then the add the covariance and save the file\n",
    "s_count.add_covariance(covariance)\n",
    "s_count.to_canonical_order()\n",
    "s_count.save_fits(\"cluster_redshift_richness_sacc_data.fits\", overwrite=True)"
   ]
  },
  {
   "cell_type": "code",
   "execution_count": 16,
   "metadata": {},
   "outputs": [
    {
     "data": {
      "text/plain": [
       "[DataPoint(data_type='cluster_counts', tracers=('NC_mock_redshift_mass', 'bin_z_0', 'bin_rich_0'), value=5371, ),\n",
       " DataPoint(data_type='cluster_counts', tracers=('NC_mock_redshift_mass', 'bin_z_0', 'bin_rich_1'), value=2969, ),\n",
       " DataPoint(data_type='cluster_counts', tracers=('NC_mock_redshift_mass', 'bin_z_0', 'bin_rich_2'), value=855, ),\n",
       " DataPoint(data_type='cluster_counts', tracers=('NC_mock_redshift_mass', 'bin_z_0', 'bin_rich_3'), value=170, ),\n",
       " DataPoint(data_type='cluster_counts', tracers=('NC_mock_redshift_mass', 'bin_z_0', 'bin_rich_4'), value=16, ),\n",
       " DataPoint(data_type='cluster_counts', tracers=('NC_mock_redshift_mass', 'bin_z_1', 'bin_rich_0'), value=9183, ),\n",
       " DataPoint(data_type='cluster_counts', tracers=('NC_mock_redshift_mass', 'bin_z_1', 'bin_rich_1'), value=4874, ),\n",
       " DataPoint(data_type='cluster_counts', tracers=('NC_mock_redshift_mass', 'bin_z_1', 'bin_rich_2'), value=1284, ),\n",
       " DataPoint(data_type='cluster_counts', tracers=('NC_mock_redshift_mass', 'bin_z_1', 'bin_rich_3'), value=225, ),\n",
       " DataPoint(data_type='cluster_counts', tracers=('NC_mock_redshift_mass', 'bin_z_1', 'bin_rich_4'), value=25, ),\n",
       " DataPoint(data_type='cluster_counts', tracers=('NC_mock_redshift_mass', 'bin_z_2', 'bin_rich_0'), value=12892, ),\n",
       " DataPoint(data_type='cluster_counts', tracers=('NC_mock_redshift_mass', 'bin_z_2', 'bin_rich_1'), value=6648, ),\n",
       " DataPoint(data_type='cluster_counts', tracers=('NC_mock_redshift_mass', 'bin_z_2', 'bin_rich_2'), value=1598, ),\n",
       " DataPoint(data_type='cluster_counts', tracers=('NC_mock_redshift_mass', 'bin_z_2', 'bin_rich_3'), value=259, ),\n",
       " DataPoint(data_type='cluster_counts', tracers=('NC_mock_redshift_mass', 'bin_z_2', 'bin_rich_4'), value=22, ),\n",
       " DataPoint(data_type='cluster_counts', tracers=('NC_mock_redshift_mass', 'bin_z_3', 'bin_rich_0'), value=16104, ),\n",
       " DataPoint(data_type='cluster_counts', tracers=('NC_mock_redshift_mass', 'bin_z_3', 'bin_rich_1'), value=7618, ),\n",
       " DataPoint(data_type='cluster_counts', tracers=('NC_mock_redshift_mass', 'bin_z_3', 'bin_rich_2'), value=1722, ),\n",
       " DataPoint(data_type='cluster_counts', tracers=('NC_mock_redshift_mass', 'bin_z_3', 'bin_rich_3'), value=225, ),\n",
       " DataPoint(data_type='cluster_counts', tracers=('NC_mock_redshift_mass', 'bin_z_3', 'bin_rich_4'), value=18, )]"
      ]
     },
     "execution_count": 16,
     "metadata": {},
     "output_type": "execute_result"
    }
   ],
   "source": [
    "s_count.data"
   ]
  },
  {
   "cell_type": "code",
   "execution_count": null,
   "metadata": {},
   "outputs": [],
   "source": []
  },
  {
   "cell_type": "code",
   "execution_count": null,
   "metadata": {},
   "outputs": [],
   "source": []
  }
 ],
 "metadata": {
  "kernelspec": {
   "display_name": "Python (firecrown2.0)",
   "language": "python",
   "name": "firecrown"
  },
  "language_info": {
   "codemirror_mode": {
    "name": "ipython",
    "version": 3
   },
   "file_extension": ".py",
   "mimetype": "text/x-python",
   "name": "python",
   "nbconvert_exporter": "python",
   "pygments_lexer": "ipython3",
   "version": "3.11.0"
  }
 },
 "nbformat": 4,
 "nbformat_minor": 4
}
