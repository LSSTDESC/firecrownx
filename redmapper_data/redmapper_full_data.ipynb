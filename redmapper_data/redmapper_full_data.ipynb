{
 "cells": [
  {
   "cell_type": "code",
   "execution_count": 1,
   "id": "e4282f40-82f0-47d3-ac1c-cc9f7b281beb",
   "metadata": {},
   "outputs": [],
   "source": [
    "%load_ext autoreload\n",
    "%autoreload 2\n",
    "#!/usr/bin/env python\n",
    "\n",
    "try:\n",
    "    import gi\n",
    "\n",
    "    gi.require_version(\"NumCosmo\", \"1.0\")\n",
    "    gi.require_version(\"NumCosmoMath\", \"1.0\")\n",
    "except:\n",
    "    pass\n",
    "\n",
    "import math\n",
    "from gi.repository import GObject\n",
    "from gi.repository import NumCosmo as Nc\n",
    "from gi.repository import NumCosmoMath as Ncm\n",
    "import sys\n",
    "\n",
    "sys.path.insert(0, \"../../scripts\")\n",
    "import os\n",
    "import numpy as np\n",
    "from astropy.table import Table\n",
    "from numpy import random\n",
    "import scipy\n",
    "from scipy import stats\n",
    "import matplotlib.pyplot as plt\n",
    "import clmm\n",
    "from clmm import GalaxyCluster, ClusterEnsemble, GCData\n",
    "from clmm import Cosmology\n",
    "from clmm.support import mock_data as mock\n",
    "import pandas as pd\n",
    "import numpy as np\n",
    "import pyccl as ccl\n",
    "from firecrown.sacc_support import sacc\n",
    "\n",
    "clmm.__version__\n",
    "import pandas as pd\n",
    "from astropy.io import fits\n",
    "from astropy.table import Table\n",
    "import scipy.integrate\n",
    "import astropy.units as u\n",
    "import itertools\n",
    "\n",
    "Ncm.cfg_init()\n",
    "Ncm.cfg_set_log_handler(lambda msg: sys.stdout.write(msg) and sys.stdout.flush())\n",
    "\n",
    "%matplotlib inline\n"
   ]
  },
  {
   "cell_type": "code",
   "execution_count": 2,
   "id": "c44be516-24d3-4042-aee9-3d6cc515621a",
   "metadata": {},
   "outputs": [],
   "source": [
    "from astropy.cosmology import FlatLambdaCDM\n",
    "import astropy.units as u\n",
    "from astropy.table import Table, QTable, hstack, vstack\n",
    "from astropy import units as u\n",
    "import corner\n",
    "cosmo_astropy = FlatLambdaCDM(H0=71.0, Om0=0.265, Ob0 = 0.0448)\n",
    "import iminuit\n",
    "from iminuit import Minuit\n",
    "cosmo_astropy.critical_density(0.4).to(u.Msun / u.Mpc**3).value\n",
    "\n",
    "\n",
    "sys.path.append('/pbs/throng/lsst/users/cpayerne/CLMassDC2/modules/')\n",
    "\n",
    "import analysis_Mass_Richness_relation as analysis\n",
    "import multiprocessing\n",
    "import clmm\n",
    "import clmm.dataops\n",
    "from clmm.dataops import compute_tangential_and_cross_components, make_radial_profile, make_bins\n",
    "from clmm.galaxycluster import GalaxyCluster\n",
    "import clmm.utils as u\n",
    "import astropy.units as un\n",
    "from clmm import Cosmology\n",
    "from clmm.support import mock_data as mock\n",
    "import pyccl as ccl\n",
    "\n",
    "cosmo = Cosmology(H0 = 71.0, Omega_dm0 = 0.265 - 0.0448, Omega_b0 = 0.0448, Omega_k0 = 0.0)\n",
    "cosmo_astropy = FlatLambdaCDM(H0=71.0, Om0=0.265, Ob0 = 0.0448)\n",
    "cosmo_clmm = Cosmology(H0 = 71.0, Omega_dm0 = 0.265 - 0.0448, Omega_b0 = 0.0448, Omega_k0 = 0.0)\n",
    "cosmo_ccl  = ccl.Cosmology(Omega_c=0.265-0.0448, Omega_b=0.0448, h=0.71, A_s=2.1e-9, n_s=0.96, Neff=0, Omega_g=0)\n",
    "area = 439.78987"
   ]
  },
  {
   "cell_type": "code",
   "execution_count": 3,
   "id": "c08bc26c-3bf3-4e9f-bd17-5d931c17e1dd",
   "metadata": {},
   "outputs": [],
   "source": [
    "sys.path.insert(0, \"/pbs/home/e/ebarroso/gcr-catalogs\")\n",
    "import GCRCatalogs\n",
    "\n",
    "GCRCatalogs.set_root_dir_by_site(\"in2p3\")\n",
    "\n",
    "import matplotlib.pyplot as plt\n",
    "import pickle\n",
    "import numpy as np\n",
    "from astropy.cosmology import FlatLambdaCDM\n",
    "import astropy.units as u\n",
    "from astropy.table import Table\n",
    "def load(filename, **kwargs):\n",
    "    \"\"\"Loads GalaxyCluster object to filename using Pickle\"\"\"\n",
    "    with open(filename, 'rb') as fin:\n",
    "        return pickle.load(fin, **kwargs)"
   ]
  },
  {
   "cell_type": "markdown",
   "id": "14c12997-0077-4b97-a772-7786ee6cdace",
   "metadata": {},
   "source": [
    "## Extract Catalog"
   ]
  },
  {
   "cell_type": "code",
   "execution_count": 4,
   "id": "8167dceb-624f-4f3b-bbe4-1778750f1caf",
   "metadata": {
    "tags": []
   },
   "outputs": [],
   "source": [
    "name = '/pbs/throng/lsst/users/cpayerne/CLMassDC2/data/matched_pairs_Mfofcut.fits'\n",
    "dat = fits.open(name)"
   ]
  },
  {
   "cell_type": "code",
   "execution_count": 5,
   "id": "dcf37f69-e091-4ff5-9aa8-44769a769765",
   "metadata": {},
   "outputs": [],
   "source": [
    "dat_open= dat[1].data"
   ]
  },
  {
   "cell_type": "code",
   "execution_count": 6,
   "id": "541c415d-91d4-460a-a921-623e2870d494",
   "metadata": {},
   "outputs": [],
   "source": [
    "richness = dat_open['cat1_richness']\n",
    "redshift = dat_open['cat2_z']\n",
    "M200c = dat_open['cat2_M200c']"
   ]
  },
  {
   "cell_type": "code",
   "execution_count": 7,
   "id": "d754f511-74e1-4c90-bfba-00dad1598b20",
   "metadata": {},
   "outputs": [],
   "source": [
    "table = Table()"
   ]
  },
  {
   "cell_type": "code",
   "execution_count": 8,
   "id": "dccf2bdc-d508-4ed1-a9c4-201d1cde416d",
   "metadata": {},
   "outputs": [],
   "source": [
    "table['richness'] = dat_open['cat1_richness']\n",
    "table['M200c'] = dat_open['cat2_M200c']\n",
    "table['redshift'] = dat_open['cat1_ztrue_cg']\n"
   ]
  },
  {
   "cell_type": "code",
   "execution_count": 9,
   "id": "17489457-4425-44d2-8aa9-416a5cffbd48",
   "metadata": {},
   "outputs": [],
   "source": [
    "table = table[(table['M200c'] > 1e13)*(table['richness'] > 20)*(table['redshift'] < .8)*(table['redshift'] > .2)]\n",
    "area = 439.78987"
   ]
  },
  {
   "cell_type": "code",
   "execution_count": 10,
   "id": "c8addd82-fc18-4439-8564-be2e53d3833e",
   "metadata": {},
   "outputs": [
    {
     "name": "stdout",
     "output_type": "stream",
     "text": [
      " richness        M200c         redshift \n",
      "---------- ------------------ ----------\n",
      " 190.70665  326491145207346.5 0.51072353\n",
      " 179.12813  645749230889104.2  0.5740297\n",
      " 167.33603  216337687012597.2  0.6426174\n",
      "  111.9147  322972230485814.1 0.43919736\n",
      "104.439766  278007164916462.0  0.4680865\n",
      " 103.49396  393139675482140.9 0.44349608\n",
      "  89.59668 439309794128045.06  0.5693116\n",
      "  77.40795  299131074023481.7  0.4968995\n",
      "  82.35056 449733785617307.06 0.49747086\n",
      "  71.94667  435095924586005.6  0.4326079\n",
      "       ...                ...        ...\n",
      "  22.38326  176028960519932.4  0.4172357\n",
      "  25.81563 166031807398580.28 0.58921903\n",
      "  26.09022 112657280458636.62 0.78044695\n",
      " 20.979803 103729863896338.03 0.20682013\n",
      " 20.552664 208625744304676.06  0.5949888\n",
      " 24.808802  36297902616518.31  0.5031447\n",
      " 23.649424  78001713694287.33 0.64465666\n",
      " 20.598429 22310743544788.734 0.65758795\n",
      " 22.047651 44988473920901.414 0.70174426\n",
      "  20.17129  82455013012552.11  0.6335203\n",
      " 24.061308 218560431833780.28  0.6059585\n",
      "Length = 2669 rows\n"
     ]
    }
   ],
   "source": [
    "print(table)"
   ]
  },
  {
   "cell_type": "markdown",
   "id": "438985e2-6f80-48b4-b7e4-111e091c619e",
   "metadata": {},
   "source": [
    "## BINN DATA"
   ]
  },
  {
   "cell_type": "code",
   "execution_count": 11,
   "id": "336661f4-83fb-4f13-b882-a081e17a135f",
   "metadata": {},
   "outputs": [],
   "source": [
    "data_table = table\n",
    "cluster_z = data_table[\"redshift\"]\n",
    "cluster_richness = np.log10(data_table[\"richness\"])\n",
    "cluster_logM = np.log10(data_table[\"M200c\"])\n",
    "\n",
    "N_richness = 4  # number of richness bins\n",
    "N_z = 3  # number of redshift bins\n",
    "\n",
    "cluster_counts, z_edges, richness_edges, _ = stats.binned_statistic_2d(\n",
    "    cluster_z, cluster_richness, cluster_logM, \"count\", bins=[N_z, N_richness]\n",
    ")\n",
    "\n",
    "mean_logM = stats.binned_statistic_2d(\n",
    "    cluster_z,\n",
    "    cluster_richness,\n",
    "    cluster_logM,\n",
    "    \"mean\",\n",
    "    bins=[z_edges, richness_edges],\n",
    ").statistic\n",
    "\n",
    "std_logM = stats.binned_statistic_2d(\n",
    "    cluster_z, cluster_richness, cluster_logM, \"std\", bins=[z_edges, richness_edges]\n",
    ").statistic\n",
    "\n",
    "var_mean_logM = std_logM**2 / cluster_counts \n",
    "\n",
    "covariance = np.diag(\n",
    "    np.concatenate((cluster_counts.flatten(), var_mean_logM.flatten()))\n",
    ")"
   ]
  },
  {
   "cell_type": "markdown",
   "id": "01ef105a-e246-447f-af87-38cf0e84f59f",
   "metadata": {},
   "source": [
    "## SAVE TO SACC"
   ]
  },
  {
   "cell_type": "code",
   "execution_count": 12,
   "id": "fe1a8a25-bf7b-4f5a-be76-1c0a540fe238",
   "metadata": {},
   "outputs": [],
   "source": [
    "s_count = sacc.Sacc()\n",
    "bin_z_labels = []\n",
    "bin_richness_labels = []\n",
    "\n",
    "survey_name = \"redmapper\"\n",
    "s_count.add_tracer(\"cluster_survey\", survey_name, area)\n",
    "\n",
    "for i, z_bin in enumerate(zip(z_edges[:-1], z_edges[1:])):\n",
    "    lower, upper = z_bin\n",
    "    bin_z_label = f\"bin_z_{i}\"\n",
    "    s_count.add_tracer(\"bin_z\", bin_z_label, lower, upper)\n",
    "    bin_z_labels.append(bin_z_label)\n",
    "\n",
    "for i, richness_bin in enumerate(zip(richness_edges[:-1], richness_edges[1:])):\n",
    "    lower, upper = richness_bin\n",
    "    bin_richness_label = f\"bin_rich_{i}\"\n",
    "    s_count.add_tracer(\n",
    "        \"bin_richness\", bin_richness_label, lower, upper\n",
    "    )\n",
    "    bin_richness_labels.append(bin_richness_label)\n",
    "\n",
    "cluster_count = sacc.standard_types.cluster_counts\n",
    "cluster_mass = sacc.standard_types.cluster_mean_log_mass\n",
    "\n",
    "counts_and_edges = zip(\n",
    "    cluster_counts.flatten(), itertools.product(bin_z_labels, bin_richness_labels)\n",
    ")\n",
    "\n",
    "# mean_logM_and_edges = zip(\n",
    "#     mean_logM.flatten(), itertools.product(bin_z_labels, bin_richness_labels)\n",
    "# )\n",
    "\n",
    "mean_logM_and_edges = zip(\n",
    "    mean_logM.flatten(), itertools.product(bin_z_labels, bin_richness_labels)\n",
    ")\n",
    "\n",
    "\n",
    "for counts, (bin_z_label, bin_richness_label) in counts_and_edges:\n",
    "    s_count.add_data_point(\n",
    "        cluster_count, (survey_name, bin_z_label, bin_richness_label), int(counts)\n",
    "    )\n",
    "    \n",
    "for bin_mean_logM, (bin_z_label, bin_richness_label) in mean_logM_and_edges:\n",
    "    s_count.add_data_point(\n",
    "        cluster_mass,\n",
    "        (survey_name, bin_z_label, bin_richness_label),\n",
    "        bin_mean_logM,\n",
    "    )\n",
    "\n",
    "# Then the add the covariance and save the file\n",
    "s_count.add_covariance(covariance)\n",
    "s_count.to_canonical_order()\n",
    "s_count.save_fits(\"redmapper_full_sacc_data.fits\", overwrite=True)"
   ]
  }
 ],
 "metadata": {
  "kernelspec": {
   "display_name": "Python (firecrown2.0)",
   "language": "python",
   "name": "firecrown"
  },
  "language_info": {
   "codemirror_mode": {
    "name": "ipython",
    "version": 3
   },
   "file_extension": ".py",
   "mimetype": "text/x-python",
   "name": "python",
   "nbconvert_exporter": "python",
   "pygments_lexer": "ipython3",
   "version": "3.11.0"
  }
 },
 "nbformat": 4,
 "nbformat_minor": 5
}
